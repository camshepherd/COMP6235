{
 "cells": [
  {
   "cell_type": "markdown",
   "metadata": {},
   "source": [
    "# Read the MET Data"
   ]
  },
  {
   "cell_type": "code",
   "execution_count": 20,
   "metadata": {},
   "outputs": [],
   "source": [
    "from scipy.spatial import *\n",
    "import pandas as pd \n",
    "import random"
   ]
  },
  {
   "cell_type": "code",
   "execution_count": 13,
   "metadata": {},
   "outputs": [],
   "source": [
    "weather = pd.read_csv('met_data_complete.csv',header=[0,1],index_col=[0,1])"
   ]
  },
  {
   "cell_type": "code",
   "execution_count": 14,
   "metadata": {},
   "outputs": [],
   "source": [
    "weather_locations = weather.columns"
   ]
  },
  {
   "cell_type": "markdown",
   "metadata": {},
   "source": [
    "# do test to check for the rates of proximity between weather and traffic points"
   ]
  },
  {
   "cell_type": "code",
   "execution_count": 16,
   "metadata": {},
   "outputs": [
    {
     "name": "stdout",
     "output_type": "stream",
     "text": [
      "('002500', '522500')\n",
      "('002500', '527500')\n",
      "('007500', '517500')\n",
      "('007500', '522500')\n",
      "('007500', '527500')\n",
      "('012500', '512500')\n",
      "('012500', '517500')\n",
      "('012500', '522500')\n",
      "('012500', '527500')\n",
      "('012500', '532500')\n"
     ]
    }
   ],
   "source": [
    "for thing in weather_locations[0:10]:\n",
    "    print(thing)"
   ]
  },
  {
   "cell_type": "code",
   "execution_count": 17,
   "metadata": {},
   "outputs": [],
   "source": [
    "the_tree = cKDTree([thing for thing in weather_locations])"
   ]
  },
  {
   "cell_type": "code",
   "execution_count": 18,
   "metadata": {},
   "outputs": [],
   "source": [
    "traffic = pd.read_csv('Raw_count_data_major_roads.csv')"
   ]
  },
  {
   "cell_type": "code",
   "execution_count": 19,
   "metadata": {},
   "outputs": [
    {
     "data": {
      "text/html": [
       "<div>\n",
       "<style scoped>\n",
       "    .dataframe tbody tr th:only-of-type {\n",
       "        vertical-align: middle;\n",
       "    }\n",
       "\n",
       "    .dataframe tbody tr th {\n",
       "        vertical-align: top;\n",
       "    }\n",
       "\n",
       "    .dataframe thead th {\n",
       "        text-align: right;\n",
       "    }\n",
       "</style>\n",
       "<table border=\"1\" class=\"dataframe\">\n",
       "  <thead>\n",
       "    <tr style=\"text-align: right;\">\n",
       "      <th></th>\n",
       "      <th>Region Name (GO)</th>\n",
       "      <th>ONS LACode</th>\n",
       "      <th>ONS LA Name</th>\n",
       "      <th>CP</th>\n",
       "      <th>S Ref E</th>\n",
       "      <th>S Ref N</th>\n",
       "      <th>S Ref Latitude</th>\n",
       "      <th>S Ref Longitude</th>\n",
       "      <th>Road</th>\n",
       "      <th>A-Junction</th>\n",
       "      <th>...</th>\n",
       "      <th>BUS</th>\n",
       "      <th>LGV</th>\n",
       "      <th>HGVR2</th>\n",
       "      <th>HGVR3</th>\n",
       "      <th>HGVR4</th>\n",
       "      <th>HGVA3</th>\n",
       "      <th>HGVA5</th>\n",
       "      <th>HGVA6</th>\n",
       "      <th>HGV</th>\n",
       "      <th>AMV</th>\n",
       "    </tr>\n",
       "  </thead>\n",
       "  <tbody>\n",
       "    <tr>\n",
       "      <th>0</th>\n",
       "      <td>East Midlands</td>\n",
       "      <td>E10000021</td>\n",
       "      <td>Northamptonshire</td>\n",
       "      <td>6004</td>\n",
       "      <td>458354</td>\n",
       "      <td>270523</td>\n",
       "      <td>52.329706</td>\n",
       "      <td>-1.14512</td>\n",
       "      <td>M1</td>\n",
       "      <td>17</td>\n",
       "      <td>...</td>\n",
       "      <td>3</td>\n",
       "      <td>314</td>\n",
       "      <td>169.0</td>\n",
       "      <td>22</td>\n",
       "      <td>10.0</td>\n",
       "      <td>82.0</td>\n",
       "      <td>198</td>\n",
       "      <td>135.0</td>\n",
       "      <td>616.0</td>\n",
       "      <td>3353.0</td>\n",
       "    </tr>\n",
       "    <tr>\n",
       "      <th>1</th>\n",
       "      <td>East Midlands</td>\n",
       "      <td>E10000021</td>\n",
       "      <td>Northamptonshire</td>\n",
       "      <td>6004</td>\n",
       "      <td>458354</td>\n",
       "      <td>270523</td>\n",
       "      <td>52.329706</td>\n",
       "      <td>-1.14512</td>\n",
       "      <td>M1</td>\n",
       "      <td>17</td>\n",
       "      <td>...</td>\n",
       "      <td>3</td>\n",
       "      <td>231</td>\n",
       "      <td>148.0</td>\n",
       "      <td>16</td>\n",
       "      <td>22.0</td>\n",
       "      <td>64.0</td>\n",
       "      <td>180</td>\n",
       "      <td>109.0</td>\n",
       "      <td>539.0</td>\n",
       "      <td>3297.0</td>\n",
       "    </tr>\n",
       "    <tr>\n",
       "      <th>2</th>\n",
       "      <td>East Midlands</td>\n",
       "      <td>E10000021</td>\n",
       "      <td>Northamptonshire</td>\n",
       "      <td>6004</td>\n",
       "      <td>458354</td>\n",
       "      <td>270523</td>\n",
       "      <td>52.329706</td>\n",
       "      <td>-1.14512</td>\n",
       "      <td>M1</td>\n",
       "      <td>17</td>\n",
       "      <td>...</td>\n",
       "      <td>11</td>\n",
       "      <td>245</td>\n",
       "      <td>175.0</td>\n",
       "      <td>14</td>\n",
       "      <td>25.0</td>\n",
       "      <td>65.0</td>\n",
       "      <td>195</td>\n",
       "      <td>116.0</td>\n",
       "      <td>590.0</td>\n",
       "      <td>2730.0</td>\n",
       "    </tr>\n",
       "    <tr>\n",
       "      <th>3</th>\n",
       "      <td>East Midlands</td>\n",
       "      <td>E10000021</td>\n",
       "      <td>Northamptonshire</td>\n",
       "      <td>6004</td>\n",
       "      <td>458354</td>\n",
       "      <td>270523</td>\n",
       "      <td>52.329706</td>\n",
       "      <td>-1.14512</td>\n",
       "      <td>M1</td>\n",
       "      <td>17</td>\n",
       "      <td>...</td>\n",
       "      <td>14</td>\n",
       "      <td>271</td>\n",
       "      <td>159.0</td>\n",
       "      <td>19</td>\n",
       "      <td>15.0</td>\n",
       "      <td>57.0</td>\n",
       "      <td>215</td>\n",
       "      <td>143.0</td>\n",
       "      <td>608.0</td>\n",
       "      <td>2400.0</td>\n",
       "    </tr>\n",
       "  </tbody>\n",
       "</table>\n",
       "<p>4 rows × 33 columns</p>\n",
       "</div>"
      ],
      "text/plain": [
       "  Region Name (GO) ONS LACode       ONS LA Name    CP  S Ref E  S Ref N  \\\n",
       "0    East Midlands  E10000021  Northamptonshire  6004   458354   270523   \n",
       "1    East Midlands  E10000021  Northamptonshire  6004   458354   270523   \n",
       "2    East Midlands  E10000021  Northamptonshire  6004   458354   270523   \n",
       "3    East Midlands  E10000021  Northamptonshire  6004   458354   270523   \n",
       "\n",
       "   S Ref Latitude  S Ref Longitude Road A-Junction   ...    BUS  LGV  HGVR2  \\\n",
       "0       52.329706         -1.14512   M1         17   ...      3  314  169.0   \n",
       "1       52.329706         -1.14512   M1         17   ...      3  231  148.0   \n",
       "2       52.329706         -1.14512   M1         17   ...     11  245  175.0   \n",
       "3       52.329706         -1.14512   M1         17   ...     14  271  159.0   \n",
       "\n",
       "   HGVR3  HGVR4 HGVA3 HGVA5  HGVA6    HGV     AMV  \n",
       "0     22   10.0  82.0   198  135.0  616.0  3353.0  \n",
       "1     16   22.0  64.0   180  109.0  539.0  3297.0  \n",
       "2     14   25.0  65.0   195  116.0  590.0  2730.0  \n",
       "3     19   15.0  57.0   215  143.0  608.0  2400.0  \n",
       "\n",
       "[4 rows x 33 columns]"
      ]
     },
     "execution_count": 19,
     "metadata": {},
     "output_type": "execute_result"
    }
   ],
   "source": [
    "traffic[0:4]"
   ]
  },
  {
   "cell_type": "code",
   "execution_count": 28,
   "metadata": {},
   "outputs": [],
   "source": [
    "to_query = []\n",
    "\n",
    "for pos in range(100):\n",
    "    to_query.append((traffic.iloc[random.randint(0,len(traffic)),4],traffic.iloc[random.randint(0,len(traffic)),5]))\n",
    "\n"
   ]
  },
  {
   "cell_type": "code",
   "execution_count": 29,
   "metadata": {},
   "outputs": [
    {
     "data": {
      "text/plain": [
       "[(527000, 178000),\n",
       " (445000, 803000),\n",
       " (404720, 180280),\n",
       " (622840, 194600),\n",
       " (480001, 220000)]"
      ]
     },
     "execution_count": 29,
     "metadata": {},
     "output_type": "execute_result"
    }
   ],
   "source": [
    "to_query[0:5]"
   ]
  },
  {
   "cell_type": "code",
   "execution_count": 38,
   "metadata": {},
   "outputs": [],
   "source": [
    "results = the_tree.query_ball_point(to_query,r=50000) # find all weather points within 50km of the traffic point"
   ]
  },
  {
   "cell_type": "code",
   "execution_count": 48,
   "metadata": {},
   "outputs": [
    {
     "name": "stdout",
     "output_type": "stream",
     "text": [
      "21\n"
     ]
    }
   ],
   "source": [
    "counts = []\n",
    "for result in results:\n",
    "    counts.append(len(result))\n",
    "print(len([thing for thing in counts if thing < 120]))"
   ]
  },
  {
   "cell_type": "code",
   "execution_count": null,
   "metadata": {},
   "outputs": [],
   "source": []
  }
 ],
 "metadata": {
  "kernelspec": {
   "display_name": "Python 3",
   "language": "python",
   "name": "python3"
  },
  "language_info": {
   "codemirror_mode": {
    "name": "ipython",
    "version": 3
   },
   "file_extension": ".py",
   "mimetype": "text/x-python",
   "name": "python",
   "nbconvert_exporter": "python",
   "pygments_lexer": "ipython3",
   "version": "3.7.0"
  }
 },
 "nbformat": 4,
 "nbformat_minor": 2
}
